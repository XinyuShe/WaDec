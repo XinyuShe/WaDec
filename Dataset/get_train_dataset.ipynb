{
 "cells": [
  {
   "cell_type": "code",
   "execution_count": null,
   "metadata": {},
   "outputs": [],
   "source": [
    "from datasets import load_from_disk,Dataset,load_dataset\n",
    "\n",
    "dataset = load_dataset('sxysxy/FGW2C')\n",
    "dataset.save_to_disk('/home/sxy/wasm2c/WaDec/Dataset/train_dataset/')\n"
   ]
  }
 ],
 "metadata": {
  "kernelspec": {
   "display_name": "sxy",
   "language": "python",
   "name": "python3"
  },
  "language_info": {
   "codemirror_mode": {
    "name": "ipython",
    "version": 3
   },
   "file_extension": ".py",
   "mimetype": "text/x-python",
   "name": "python",
   "nbconvert_exporter": "python",
   "pygments_lexer": "ipython3",
   "version": "3.11.8"
  }
 },
 "nbformat": 4,
 "nbformat_minor": 2
}
