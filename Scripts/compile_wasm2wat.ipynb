{
 "cells": [
  {
   "cell_type": "code",
   "execution_count": null,
   "metadata": {},
   "outputs": [],
   "source": [
    "import os,json\n",
    "import subprocess\n",
    "import shutil\n",
    "from concurrent.futures import ProcessPoolExecutor\n",
    "from Utils.CModuleParcer import CModule\n",
    "def c2preprocessed(c_str,count):\n",
    "    c_path = f'{c_directory}/file{count}.c'\n",
    "    open(c_path,'w').write(c_str)\n",
    "    wasm_path = f'{wasm_directory}/file{count}.wasm'\n",
    "    wat_path = f'{wat_directory}/file{count}.wat'\n",
    "    cmodule = CModule(c_str)\n",
    "    funclist = cmodule.get_ordered_funcs()\n",
    "    if 'main' in funclist:\n",
    "        import_str = ','.join([f'_{i}' for i in funclist])\n",
    "        emcc_compile = f'emcc {c_path} -g -s EXPORTED_FUNCTIONS=\"{import_str}\" -o {wasm_path}'\n",
    "    else:\n",
    "        emcc_compile = f'emcc {c_path} -g -s -c -o {wasm_path}'\n",
    "    try:\n",
    "        command = f'''{emcc_compile} ;\\\n",
    "            wasm2wat {wasm_path} -o {wat_path}'''\n",
    "        subprocess.run(command, shell=True, stdout=subprocess.PIPE, stderr=subprocess.PIPE)\n",
    "    except:\n",
    "        print(c_path)\n",
    "\n",
    "def multi_c2wasm2wat(file_list, max_workers=100):\n",
    "    print(f\"一共{len(file_list)}个c文件\")\n",
    "    with ProcessPoolExecutor(max_workers=max_workers) as executor:\n",
    "        for i, file_str in enumerate(file_list):\n",
    "            executor.submit(c2preprocessed, file_str, i)\n",
    "root_dir = '/'.join(os.getcwd().split('/')[:-1])\n",
    "eval_dir = f'{root_dir}/Dataset/eval_dataset'\n",
    "eval_data_path = f'{eval_dir}/eval_data.json'\n",
    "with open(eval_data_path,'r') as f:\n",
    "    eval_data_list = json.load(f)\n",
    "c_directory = eval_dir + \"/c\"\n",
    "if not os.path.exists(c_directory):\n",
    "    os.makedirs(c_directory)\n",
    "wasm_directory = eval_dir + \"/wasm\"\n",
    "if not os.path.exists(wasm_directory):\n",
    "    os.makedirs(wasm_directory)\n",
    "wat_directory = eval_dir + \"/wat\"\n",
    "if not os.path.exists(wat_directory):\n",
    "    os.makedirs(wat_directory)\n",
    "\n",
    "multi_c2wasm2wat(eval_data_list)"
   ]
  }
 ],
 "metadata": {
  "kernelspec": {
   "display_name": "sxy",
   "language": "python",
   "name": "python3"
  },
  "language_info": {
   "codemirror_mode": {
    "name": "ipython",
    "version": 3
   },
   "file_extension": ".py",
   "mimetype": "text/x-python",
   "name": "python",
   "nbconvert_exporter": "python",
   "pygments_lexer": "ipython3",
   "version": "3.11.8"
  }
 },
 "nbformat": 4,
 "nbformat_minor": 2
}
