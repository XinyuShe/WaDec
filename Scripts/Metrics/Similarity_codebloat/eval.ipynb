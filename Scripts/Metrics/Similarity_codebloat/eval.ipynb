{
 "cells": [
  {
   "cell_type": "code",
   "execution_count": 1,
   "metadata": {},
   "outputs": [],
   "source": [
    "from aed import get_AED_SCORE\n",
    "from ccn import get_CCN_SCORE\n",
    "from cos import get_COS_SCORE\n",
    "from tree_sitter import Language, Parser\n",
    "C_LANGUAGE = Language('/home/sxy/tree_sitter/build/my-languages.so', 'c')\n",
    "parser = Parser()\n",
    "parser.set_language(C_LANGUAGE)\n",
    "\n",
    "def is_error(c_text: str) -> bool:\n",
    "    root_node = parser.parse(bytes(c_text, 'utf8')).root_node\n",
    "    if root_node.has_error:\n",
    "        return True\n",
    "    return False\n",
    "\n",
    "def get_scores(original_path, decompiled_path):\n",
    "    if is_error(original_path) or is_error(decompiled_path):\n",
    "        return {}\n",
    "    ccn_score, code_flation_rate = get_CCN_SCORE(original_path,decompiled_path)\n",
    "    return {\n",
    "        'AED' : get_AED_SCORE(original_path,decompiled_path),\n",
    "        'CCN' : ccn_score,\n",
    "        'COS' : get_COS_SCORE(original_path,decompiled_path),\n",
    "        'Code_Flation_Rate' : code_flation_rate,\n",
    "    }\n",
    "\n",
    "original_path = ''\n",
    "decompiled_path = ''\n",
    "get_scores(original_path, decompiled_path)"
   ]
  }
 ],
 "metadata": {
  "kernelspec": {
   "display_name": "sxy",
   "language": "python",
   "name": "python3"
  },
  "language_info": {
   "codemirror_mode": {
    "name": "ipython",
    "version": 3
   },
   "file_extension": ".py",
   "mimetype": "text/x-python",
   "name": "python",
   "nbconvert_exporter": "python",
   "pygments_lexer": "ipython3",
   "version": "3.11.8"
  }
 },
 "nbformat": 4,
 "nbformat_minor": 2
}
